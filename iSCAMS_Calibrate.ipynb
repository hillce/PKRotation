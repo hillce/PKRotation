{
 "cells": [
  {
   "cell_type": "code",
   "execution_count": 1,
   "metadata": {},
   "outputs": [],
   "source": [
    "import os\n",
    "import csv\n",
    "import scipy\n",
    "import numpy as np\n",
    "import matplotlib as mpl\n",
    "import matplotlib.pyplot as plt\n",
    "from iSCAMS_class import iSCAMS\n",
    "from iSCAMS_calibration import iSCAMS_calibrate\n",
    "from astroML.plotting import hist\n",
    "from numpy.polynomial.polynomial import polyfit"
   ]
  },
  {
   "cell_type": "code",
   "execution_count": 15,
   "metadata": {},
   "outputs": [
    {
     "name": "stdout",
     "output_type": "stream",
     "text": [
      "Standard Files: ['./Contrasts/Standards/CHV_CupA/ADH_100nM_Cf.npy']\n"
     ]
    }
   ],
   "source": [
    "Path = r\"./Contrasts/Standards/CHV_CupA/\"\n",
    "Filenames = []\n",
    "for filename in os.listdir(Path):\n",
    "    filename_sample = os.path.join(os.path.expanduser(Path),filename)\n",
    "    assert os.path.exists(filename_sample)\n",
    "    Filenames.append(filename_sample)\n",
    "    \n",
    "print(\"Standard Files:\",Filenames)"
   ]
  },
  {
   "cell_type": "code",
   "execution_count": 13,
   "metadata": {},
   "outputs": [],
   "source": [
    "Cf_ADH = np.load(Filenames[0])\n",
    "ADH_cal = iSCAMS_calibrate(Cf_ADH,\"ADH\")\n",
    "Cf_BetaA = np.load(Filenames[1])\n",
    "BetaA_cal = iSCAMS_calibrate(Cf_BetaA,\"BetaA\")"
   ]
  },
  {
   "cell_type": "code",
   "execution_count": null,
   "metadata": {},
   "outputs": [],
   "source": [
    "ADH_cal.Manual_Gauss()\n",
    "BetaA_cal.Manual_Gauss()"
   ]
  },
  {
   "cell_type": "code",
   "execution_count": null,
   "metadata": {},
   "outputs": [],
   "source": [
    "ADH_cal.Fit_Gaussian()\n",
    "BetaA_cal.Fit_Gaussian()"
   ]
  },
  {
   "cell_type": "code",
   "execution_count": null,
   "metadata": {},
   "outputs": [],
   "source": [
    "x = []\n",
    "y = []\n",
    "for i in range(0,len(ADH.popt),3)\n",
    "    x.append(ADH.popt[i])\n",
    "y.append(ADH.Peaks)\n",
    "\n",
    "for i in range(0,len(BetaA.popt),3)\n",
    "    x.append(BetaA.popt[i])\n",
    "y.append(BetaA.Peaks)"
   ]
  },
  {
   "cell_type": "code",
   "execution_count": null,
   "metadata": {},
   "outputs": [],
   "source": [
    "b, m = polyfit(x,y, 1)\n",
    "\n",
    "x_n = np.arange(0.001,0.01,0.001)\n",
    "y_n = b + m*x\n",
    "\n",
    "plt.plot(x, y, '.')\n",
    "plt.plot(x_n, y_n, '-')\n",
    "plt.show()\n",
    "\n",
    "print(\"Gradient:\",m)\n",
    "print(\"Intercept:\",b)"
   ]
  }
 ],
 "metadata": {
  "kernelspec": {
   "display_name": "Python 3",
   "language": "python",
   "name": "python3"
  },
  "language_info": {
   "codemirror_mode": {
    "name": "ipython",
    "version": 3
   },
   "file_extension": ".py",
   "mimetype": "text/x-python",
   "name": "python",
   "nbconvert_exporter": "python",
   "pygments_lexer": "ipython3",
   "version": "3.6.4"
  }
 },
 "nbformat": 4,
 "nbformat_minor": 2
}
