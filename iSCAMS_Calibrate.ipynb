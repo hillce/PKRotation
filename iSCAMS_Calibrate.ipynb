{
 "cells": [
  {
   "cell_type": "code",
   "execution_count": 2,
   "metadata": {},
   "outputs": [],
   "source": [
    "import os\n",
    "import csv\n",
    "import scipy\n",
    "import numpy as np\n",
    "import matplotlib as mpl\n",
    "import matplotlib.pyplot as plt\n",
    "from iSCAMS_class import iSCAMS\n",
    "from iSCAMS_calibration import iSCAMS_calibrate\n",
    "from astroML.plotting import hist\n",
    "from numpy.polynomial.polynomial import polyfit"
   ]
  },
  {
   "cell_type": "code",
   "execution_count": 3,
   "metadata": {},
   "outputs": [
    {
     "name": "stdout",
     "output_type": "stream",
     "text": [
      "Standard Files: ['./Contrasts/Standards/DRP1/ADH_STD_Cf.npy', './Contrasts/Standards/DRP1/ADH_STD_Cf_rescaled.npy', './Contrasts/Standards/DRP1/BetaA_STD_1_Cf.npy', './Contrasts/Standards/DRP1/BetaA_STD_1_Cf_rescaled.npy', './Contrasts/Standards/DRP1/BetaA_STD_Cf.npy', './Contrasts/Standards/DRP1/BetaA_STD_Cf_rescaled.npy']\n"
     ]
    }
   ],
   "source": [
    "Path = r\"./Contrasts/Standards/DRP1/\"\n",
    "Filenames = []\n",
    "for filename in os.listdir(Path):\n",
    "    filename_sample = os.path.join(os.path.expanduser(Path),filename)\n",
    "    assert os.path.exists(filename_sample)\n",
    "    Filenames.append(filename_sample)\n",
    "    \n",
    "print(\"Standard Files:\",Filenames)"
   ]
  },
  {
   "cell_type": "code",
   "execution_count": 4,
   "metadata": {},
   "outputs": [],
   "source": [
    "Cf_ADH = np.load(Filenames[0])\n",
    "ADH_cal = iSCAMS_calibrate(Cf_ADH,\"ADH\")\n",
    "Cf_BetaA = np.load(Filenames[2])\n",
    "BetaA_cal = iSCAMS_calibrate(Cf_BetaA,\"BetaA\")"
   ]
  },
  {
   "cell_type": "code",
   "execution_count": 5,
   "metadata": {},
   "outputs": [
    {
     "data": {
      "image/png": "[encoded data removed]",
      "text/plain": [
       "<Figure size 432x288 with 1 Axes>"
      ]
     },
     "metadata": {},
     "output_type": "display_data"
    },
    {
     "name": "stdout",
     "output_type": "stream",
     "text": [
      "Number of Gaussians:\n",
      "2\n",
      "Gaussian 1\n",
      "Centre:\n",
      "0.002\n",
      "Amplitude:\n",
      "120\n",
      "Width:\n",
      "0.001\n",
      "Gaussian 2\n",
      "Centre:\n",
      "0.005\n",
      "Amplitude:\n",
      "350\n",
      "Width:\n",
      "0.001\n"
     ]
    },
    {
     "data": {
      "image/png": "[encoded data removed]",
      "text/plain": [
       "<Figure size 432x288 with 1 Axes>"
      ]
     },
     "metadata": {},
     "output_type": "display_data"
    },
    {
     "name": "stdout",
     "output_type": "stream",
     "text": [
      "Number of Gaussians:\n",
      "1\n",
      "Gaussian 1\n",
      "Centre:\n",
      "0.003\n",
      "Amplitude:\n",
      "50\n",
      "Width:\n",
      "0.001\n"
     ]
    }
   ],
   "source": [
    "ADH_cal.Manual_Gauss()\n",
    "BetaA_cal.Manual_Gauss()"
   ]
  },
  {
   "cell_type": "code",
   "execution_count": 6,
   "metadata": {},
   "outputs": [
    {
     "name": "stderr",
     "output_type": "stream",
     "text": [
      "C:\\Users\\pkgroup\\AppData\\Local\\Continuum\\anaconda3\\lib\\site-packages\\matplotlib\\axes\\_axes.py:6462: UserWarning: The 'normed' kwarg is deprecated, and has been replaced by the 'density' kwarg.\n",
      "  warnings.warn(\"The 'normed' kwarg is deprecated, and has been \"\n"
     ]
    },
    {
     "data": {
      "image/png": "[encoded data removed]",
      "text/plain": [
       "<Figure size 432x288 with 1 Axes>"
      ]
     },
     "metadata": {},
     "output_type": "display_data"
    },
    {
     "data": {
      "image/png": "[encoded data removed]",
      "text/plain": [
       "<Figure size 432x288 with 1 Axes>"
      ]
     },
     "metadata": {},
     "output_type": "display_data"
    }
   ],
   "source": [
    "ADH_cal.Fit_Gaussian()\n",
    "BetaA_cal.Fit_Gaussian()"
   ]
  },
  {
   "cell_type": "code",
   "execution_count": 8,
   "metadata": {},
   "outputs": [
    {
     "ename": "NameError",
     "evalue": "name 'ADH' is not defined",
     "output_type": "error",
     "traceback": [
      "\u001b[1;31m---------------------------------------------------------------------------\u001b[0m",
      "\u001b[1;31mNameError\u001b[0m                                 Traceback (most recent call last)",
      "\u001b[1;32m<ipython-input-8-6bae33ce3340>\u001b[0m in \u001b[0;36m<module>\u001b[1;34m()\u001b[0m\n\u001b[0;32m      1\u001b[0m \u001b[0mx\u001b[0m \u001b[1;33m=\u001b[0m \u001b[1;33m[\u001b[0m\u001b[1;33m]\u001b[0m\u001b[1;33m\u001b[0m\u001b[0m\n\u001b[0;32m      2\u001b[0m \u001b[0my\u001b[0m \u001b[1;33m=\u001b[0m \u001b[1;33m[\u001b[0m\u001b[1;33m]\u001b[0m\u001b[1;33m\u001b[0m\u001b[0m\n\u001b[1;32m----> 3\u001b[1;33m \u001b[1;32mfor\u001b[0m \u001b[0mi\u001b[0m \u001b[1;32min\u001b[0m \u001b[0mrange\u001b[0m\u001b[1;33m(\u001b[0m\u001b[1;36m0\u001b[0m\u001b[1;33m,\u001b[0m\u001b[0mlen\u001b[0m\u001b[1;33m(\u001b[0m\u001b[0mADH\u001b[0m\u001b[1;33m.\u001b[0m\u001b[0mpopt\u001b[0m\u001b[1;33m)\u001b[0m\u001b[1;33m,\u001b[0m\u001b[1;36m3\u001b[0m\u001b[1;33m)\u001b[0m\u001b[1;33m:\u001b[0m\u001b[1;33m\u001b[0m\u001b[0m\n\u001b[0m\u001b[0;32m      4\u001b[0m     \u001b[0mx\u001b[0m\u001b[1;33m.\u001b[0m\u001b[0mappend\u001b[0m\u001b[1;33m(\u001b[0m\u001b[0mADH\u001b[0m\u001b[1;33m.\u001b[0m\u001b[0mpopt\u001b[0m\u001b[1;33m[\u001b[0m\u001b[0mi\u001b[0m\u001b[1;33m]\u001b[0m\u001b[1;33m)\u001b[0m\u001b[1;33m\u001b[0m\u001b[0m\n\u001b[0;32m      5\u001b[0m \u001b[0my\u001b[0m\u001b[1;33m.\u001b[0m\u001b[0mappend\u001b[0m\u001b[1;33m(\u001b[0m\u001b[0mADH\u001b[0m\u001b[1;33m.\u001b[0m\u001b[0mPeaks\u001b[0m\u001b[1;33m)\u001b[0m\u001b[1;33m\u001b[0m\u001b[0m\n",
      "\u001b[1;31mNameError\u001b[0m: name 'ADH' is not defined"
     ]
    }
   ],
   "source": [
    "x = []\n",
    "y = []\n",
    "for i in range(0,len(ADH_cal.popt),3):\n",
    "    x.append(ADH_cal.popt[i])\n",
    "y.append(ADH_cal.Peaks)\n",
    "\n",
    "for i in range(0,len(BetaA.popt),3):\n",
    "    x.append(BetaA.popt[i])\n",
    "y.append(BetaA.Peaks)"
   ]
  },
  {
   "cell_type": "code",
   "execution_count": null,
   "metadata": {},
   "outputs": [],
   "source": [
    "b, m = polyfit(x,y, 1)\n",
    "\n",
    "x_n = np.arange(0.001,0.01,0.001)\n",
    "y_n = b + m*x\n",
    "\n",
    "plt.plot(x, y, '.')\n",
    "plt.plot(x_n, y_n, '-')\n",
    "plt.show()\n",
    "\n",
    "print(\"Gradient:\",m)\n",
    "print(\"Intercept:\",b)"
   ]
  }
 ],
 "metadata": {
  "kernelspec": {
   "display_name": "Python 3",
   "language": "python",
   "name": "python3"
  },
  "language_info": {
   "codemirror_mode": {
    "name": "ipython",
    "version": 3
   },
   "file_extension": ".py",
   "mimetype": "text/x-python",
   "name": "python",
   "nbconvert_exporter": "python",
   "pygments_lexer": "ipython3",
   "version": "3.6.5"
  }
 },
 "nbformat": 4,
 "nbformat_minor": 2
}
