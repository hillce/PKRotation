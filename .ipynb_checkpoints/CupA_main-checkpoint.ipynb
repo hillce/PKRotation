{
 "cells": [
  {
   "cell_type": "code",
   "execution_count": 1,
   "metadata": {},
   "outputs": [],
   "source": [
    "import os\n",
    "import csv\n",
    "import scipy\n",
    "import numpy as np\n",
    "import matplotlib as mpl\n",
    "import matplotlib.pyplot as plt\n",
    "from iSCAMS_class import iSCAMS\n",
    "from astroML.plotting import hist"
   ]
  },
  {
   "cell_type": "code",
   "execution_count": 7,
   "metadata": {},
   "outputs": [
    {
     "name": "stdout",
     "output_type": "stream",
     "text": [
      "Standard Files: ['./Contrasts/CHV/CHV_1_in_1000_Cf.npy', './Contrasts/CHV/CHV_1_in_100_Cf.npy']\n"
     ]
    }
   ],
   "source": [
    "Path = r\"./Contrasts/CupA1/\"\n",
    "Filenames = []\n",
    "for filename in os.listdir(Path):\n",
    "    filename_sample = os.path.join(os.path.expanduser(Path),filename)\n",
    "    assert os.path.exists(filename_sample)\n",
    "    Filenames.append(filename_sample)\n",
    "Filenames = Filenames[:-1]\n",
    "print(\"Standard Files:\",Filenames)"
   ]
  },
  {
   "cell_type": "code",
   "execution_count": 3,
   "metadata": {},
   "outputs": [],
   "source": [
    "Cf = np.load(Filenames[0])\n",
    "CupA_625nM = iSCAMS(Cf,Conc=\"625nM\",Protein=\"CupA1\",Buffer=\"TRIS\",Mass=True,m=14237.875265229435,b=25.909236389843244,bin_type=50)"
   ]
  },
  {
   "cell_type": "code",
   "execution_count": 5,
   "metadata": {},
   "outputs": [
    {
     "data": {
      "image/png": "[encoded data removed]",
      "text/plain": [
       "<matplotlib.figure.Figure at 0x172beb5a518>"
      ]
     },
     "metadata": {},
     "output_type": "display_data"
    }
   ],
   "source": [
    "CupA_625nM.Plot_hist(KeyTicks=[64,80,96,112,128,144,160])"
   ]
  },
  {
   "cell_type": "code",
   "execution_count": null,
   "metadata": {},
   "outputs": [],
   "source": [
    "CupA_625nM.GaussKernel(sigma=2)"
   ]
  },
  {
   "cell_type": "code",
   "execution_count": null,
   "metadata": {},
   "outputs": [],
   "source": [
    "plt.figure()\n",
    "n,bins,p = hist(CupA_625nM.mass_smooth,bins=10)\n",
    "plt.clf()\n",
    "plt.plot(bins[:-1],n)\n",
    "plt.show()"
   ]
  },
  {
   "cell_type": "code",
   "execution_count": null,
   "metadata": {},
   "outputs": [],
   "source": []
  }
 ],
 "metadata": {
  "kernelspec": {
   "display_name": "Python 3",
   "language": "python",
   "name": "python3"
  },
  "language_info": {
   "codemirror_mode": {
    "name": "ipython",
    "version": 3
   },
   "file_extension": ".py",
   "mimetype": "text/x-python",
   "name": "python",
   "nbconvert_exporter": "python",
   "pygments_lexer": "ipython3",
   "version": "3.6.4"
  }
 },
 "nbformat": 4,
 "nbformat_minor": 2
}
